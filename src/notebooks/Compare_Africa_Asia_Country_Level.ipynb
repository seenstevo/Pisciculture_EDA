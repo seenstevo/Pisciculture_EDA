{
 "cells": [
  {
   "cell_type": "code",
   "execution_count": 1,
   "metadata": {},
   "outputs": [],
   "source": [
    "import pandas as pd\n",
    "import numpy as np\n",
    "import os\n",
    "import seaborn as sns\n",
    "from matplotlib import pyplot as plt"
   ]
  },
  {
   "attachments": {},
   "cell_type": "markdown",
   "metadata": {},
   "source": [
    "- we want to see country level variations in pisciculture in freshwater. \n",
    "- which species are top 3 for africa and how do their production levels vary between countries"
   ]
  },
  {
   "cell_type": "code",
   "execution_count": 2,
   "metadata": {},
   "outputs": [
    {
     "name": "stdout",
     "output_type": "stream",
     "text": [
      "(96571, 7)\n",
      "(235, 2)\n"
     ]
    }
   ],
   "source": [
    "aquaculture_quantity_value = pd.read_csv(\"../data/Aquaculture_Quantity_Code_Merged.csv\", \n",
    "                                         usecols = ['PERIOD', 'Quantity', 'Country', 'WaterArea', 'Species', 'Scientific_Name', 'Environment'])\n",
    "aquaculture_quantity_value.rename(columns={'Quantity': 'Tonnes'}, inplace=True)\n",
    "print(aquaculture_quantity_value.shape)\n",
    "population_by_country = pd.read_csv(\"../data/Population_by_Country.csv\")\n",
    "print(population_by_country.shape)"
   ]
  },
  {
   "cell_type": "code",
   "execution_count": 3,
   "metadata": {},
   "outputs": [
    {
     "data": {
      "text/html": [
       "<div>\n",
       "<style scoped>\n",
       "    .dataframe tbody tr th:only-of-type {\n",
       "        vertical-align: middle;\n",
       "    }\n",
       "\n",
       "    .dataframe tbody tr th {\n",
       "        vertical-align: top;\n",
       "    }\n",
       "\n",
       "    .dataframe thead th {\n",
       "        text-align: right;\n",
       "    }\n",
       "</style>\n",
       "<table border=\"1\" class=\"dataframe\">\n",
       "  <thead>\n",
       "    <tr style=\"text-align: right;\">\n",
       "      <th></th>\n",
       "      <th>PERIOD</th>\n",
       "      <th>Tonnes</th>\n",
       "      <th>Country</th>\n",
       "      <th>WaterArea</th>\n",
       "      <th>Environment</th>\n",
       "      <th>Species</th>\n",
       "      <th>Scientific_Name</th>\n",
       "      <th>Population</th>\n",
       "    </tr>\n",
       "  </thead>\n",
       "  <tbody>\n",
       "    <tr>\n",
       "      <th>0</th>\n",
       "      <td>2020</td>\n",
       "      <td>8000.0</td>\n",
       "      <td>Afghanistan</td>\n",
       "      <td>Asia - Inland waters</td>\n",
       "      <td>Freshwater</td>\n",
       "      <td>Cyprinids nei</td>\n",
       "      <td>Cyprinidae</td>\n",
       "      <td>38.928346</td>\n",
       "    </tr>\n",
       "    <tr>\n",
       "      <th>1</th>\n",
       "      <td>2019</td>\n",
       "      <td>7950.0</td>\n",
       "      <td>Afghanistan</td>\n",
       "      <td>Asia - Inland waters</td>\n",
       "      <td>Freshwater</td>\n",
       "      <td>Cyprinids nei</td>\n",
       "      <td>Cyprinidae</td>\n",
       "      <td>38.928346</td>\n",
       "    </tr>\n",
       "    <tr>\n",
       "      <th>2</th>\n",
       "      <td>2018</td>\n",
       "      <td>7900.0</td>\n",
       "      <td>Afghanistan</td>\n",
       "      <td>Asia - Inland waters</td>\n",
       "      <td>Freshwater</td>\n",
       "      <td>Cyprinids nei</td>\n",
       "      <td>Cyprinidae</td>\n",
       "      <td>38.928346</td>\n",
       "    </tr>\n",
       "    <tr>\n",
       "      <th>3</th>\n",
       "      <td>2017</td>\n",
       "      <td>6950.0</td>\n",
       "      <td>Afghanistan</td>\n",
       "      <td>Asia - Inland waters</td>\n",
       "      <td>Freshwater</td>\n",
       "      <td>Cyprinids nei</td>\n",
       "      <td>Cyprinidae</td>\n",
       "      <td>38.928346</td>\n",
       "    </tr>\n",
       "    <tr>\n",
       "      <th>4</th>\n",
       "      <td>2016</td>\n",
       "      <td>6100.0</td>\n",
       "      <td>Afghanistan</td>\n",
       "      <td>Asia - Inland waters</td>\n",
       "      <td>Freshwater</td>\n",
       "      <td>Cyprinids nei</td>\n",
       "      <td>Cyprinidae</td>\n",
       "      <td>38.928346</td>\n",
       "    </tr>\n",
       "  </tbody>\n",
       "</table>\n",
       "</div>"
      ],
      "text/plain": [
       "   PERIOD  Tonnes      Country             WaterArea Environment  \\\n",
       "0    2020  8000.0  Afghanistan  Asia - Inland waters  Freshwater   \n",
       "1    2019  7950.0  Afghanistan  Asia - Inland waters  Freshwater   \n",
       "2    2018  7900.0  Afghanistan  Asia - Inland waters  Freshwater   \n",
       "3    2017  6950.0  Afghanistan  Asia - Inland waters  Freshwater   \n",
       "4    2016  6100.0  Afghanistan  Asia - Inland waters  Freshwater   \n",
       "\n",
       "         Species Scientific_Name  Population  \n",
       "0  Cyprinids nei      Cyprinidae   38.928346  \n",
       "1  Cyprinids nei      Cyprinidae   38.928346  \n",
       "2  Cyprinids nei      Cyprinidae   38.928346  \n",
       "3  Cyprinids nei      Cyprinidae   38.928346  \n",
       "4  Cyprinids nei      Cyprinidae   38.928346  "
      ]
     },
     "execution_count": 3,
     "metadata": {},
     "output_type": "execute_result"
    }
   ],
   "source": [
    "aquaculture_quantity_value = pd.merge(aquaculture_quantity_value, population_by_country)\n",
    "aquaculture_quantity_value['Population'] = aquaculture_quantity_value['Population'] / 1000000\n",
    "aquaculture_quantity_value.head()"
   ]
  },
  {
   "cell_type": "code",
   "execution_count": 4,
   "metadata": {},
   "outputs": [
    {
     "data": {
      "text/html": [
       "<div>\n",
       "<style scoped>\n",
       "    .dataframe tbody tr th:only-of-type {\n",
       "        vertical-align: middle;\n",
       "    }\n",
       "\n",
       "    .dataframe tbody tr th {\n",
       "        vertical-align: top;\n",
       "    }\n",
       "\n",
       "    .dataframe thead th {\n",
       "        text-align: right;\n",
       "    }\n",
       "</style>\n",
       "<table border=\"1\" class=\"dataframe\">\n",
       "  <thead>\n",
       "    <tr style=\"text-align: right;\">\n",
       "      <th></th>\n",
       "      <th>PERIOD</th>\n",
       "      <th>Tonnes</th>\n",
       "      <th>Country</th>\n",
       "      <th>WaterArea</th>\n",
       "      <th>Environment</th>\n",
       "      <th>Species</th>\n",
       "      <th>Scientific_Name</th>\n",
       "      <th>Population</th>\n",
       "      <th>Tonnes_Per_Million_People</th>\n",
       "    </tr>\n",
       "  </thead>\n",
       "  <tbody>\n",
       "    <tr>\n",
       "      <th>0</th>\n",
       "      <td>2020</td>\n",
       "      <td>8000.0</td>\n",
       "      <td>Afghanistan</td>\n",
       "      <td>Asia - Inland waters</td>\n",
       "      <td>Freshwater</td>\n",
       "      <td>Cyprinids nei</td>\n",
       "      <td>Cyprinidae</td>\n",
       "      <td>38.928346</td>\n",
       "      <td>205.505777</td>\n",
       "    </tr>\n",
       "    <tr>\n",
       "      <th>1</th>\n",
       "      <td>2019</td>\n",
       "      <td>7950.0</td>\n",
       "      <td>Afghanistan</td>\n",
       "      <td>Asia - Inland waters</td>\n",
       "      <td>Freshwater</td>\n",
       "      <td>Cyprinids nei</td>\n",
       "      <td>Cyprinidae</td>\n",
       "      <td>38.928346</td>\n",
       "      <td>204.221366</td>\n",
       "    </tr>\n",
       "    <tr>\n",
       "      <th>2</th>\n",
       "      <td>2018</td>\n",
       "      <td>7900.0</td>\n",
       "      <td>Afghanistan</td>\n",
       "      <td>Asia - Inland waters</td>\n",
       "      <td>Freshwater</td>\n",
       "      <td>Cyprinids nei</td>\n",
       "      <td>Cyprinidae</td>\n",
       "      <td>38.928346</td>\n",
       "      <td>202.936955</td>\n",
       "    </tr>\n",
       "    <tr>\n",
       "      <th>3</th>\n",
       "      <td>2017</td>\n",
       "      <td>6950.0</td>\n",
       "      <td>Afghanistan</td>\n",
       "      <td>Asia - Inland waters</td>\n",
       "      <td>Freshwater</td>\n",
       "      <td>Cyprinids nei</td>\n",
       "      <td>Cyprinidae</td>\n",
       "      <td>38.928346</td>\n",
       "      <td>178.533144</td>\n",
       "    </tr>\n",
       "    <tr>\n",
       "      <th>4</th>\n",
       "      <td>2016</td>\n",
       "      <td>6100.0</td>\n",
       "      <td>Afghanistan</td>\n",
       "      <td>Asia - Inland waters</td>\n",
       "      <td>Freshwater</td>\n",
       "      <td>Cyprinids nei</td>\n",
       "      <td>Cyprinidae</td>\n",
       "      <td>38.928346</td>\n",
       "      <td>156.698155</td>\n",
       "    </tr>\n",
       "  </tbody>\n",
       "</table>\n",
       "</div>"
      ],
      "text/plain": [
       "   PERIOD  Tonnes      Country             WaterArea Environment  \\\n",
       "0    2020  8000.0  Afghanistan  Asia - Inland waters  Freshwater   \n",
       "1    2019  7950.0  Afghanistan  Asia - Inland waters  Freshwater   \n",
       "2    2018  7900.0  Afghanistan  Asia - Inland waters  Freshwater   \n",
       "3    2017  6950.0  Afghanistan  Asia - Inland waters  Freshwater   \n",
       "4    2016  6100.0  Afghanistan  Asia - Inland waters  Freshwater   \n",
       "\n",
       "         Species Scientific_Name  Population  Tonnes_Per_Million_People  \n",
       "0  Cyprinids nei      Cyprinidae   38.928346                 205.505777  \n",
       "1  Cyprinids nei      Cyprinidae   38.928346                 204.221366  \n",
       "2  Cyprinids nei      Cyprinidae   38.928346                 202.936955  \n",
       "3  Cyprinids nei      Cyprinidae   38.928346                 178.533144  \n",
       "4  Cyprinids nei      Cyprinidae   38.928346                 156.698155  "
      ]
     },
     "execution_count": 4,
     "metadata": {},
     "output_type": "execute_result"
    }
   ],
   "source": [
    "aquaculture_quantity_value['Tonnes_Per_Million_People'] = aquaculture_quantity_value['Tonnes']  / aquaculture_quantity_value['Population']\n",
    "#aquaculture_quantity_value.drop(['Tonnes', 'Population'], axis = 1, inplace = True)\n",
    "aquaculture_quantity_value.head()"
   ]
  },
  {
   "cell_type": "code",
   "execution_count": 5,
   "metadata": {},
   "outputs": [
    {
     "data": {
      "text/plain": [
       "(22960, 9)"
      ]
     },
     "execution_count": 5,
     "metadata": {},
     "output_type": "execute_result"
    }
   ],
   "source": [
    "africa_asia_inland = aquaculture_quantity_value[aquaculture_quantity_value['WaterArea']\n",
    "                                                .isin(['Asia - Inland waters', 'Africa - Inland waters'])]\n",
    "africa_asia_inland.shape"
   ]
  },
  {
   "cell_type": "code",
   "execution_count": 6,
   "metadata": {},
   "outputs": [
    {
     "name": "stdout",
     "output_type": "stream",
     "text": [
      "(7376, 9)\n",
      "(15584, 9)\n"
     ]
    },
    {
     "data": {
      "text/html": [
       "<div>\n",
       "<style scoped>\n",
       "    .dataframe tbody tr th:only-of-type {\n",
       "        vertical-align: middle;\n",
       "    }\n",
       "\n",
       "    .dataframe tbody tr th {\n",
       "        vertical-align: top;\n",
       "    }\n",
       "\n",
       "    .dataframe thead th {\n",
       "        text-align: right;\n",
       "    }\n",
       "</style>\n",
       "<table border=\"1\" class=\"dataframe\">\n",
       "  <thead>\n",
       "    <tr style=\"text-align: right;\">\n",
       "      <th></th>\n",
       "      <th>PERIOD</th>\n",
       "      <th>Tonnes</th>\n",
       "      <th>Country</th>\n",
       "      <th>WaterArea</th>\n",
       "      <th>Environment</th>\n",
       "      <th>Species</th>\n",
       "      <th>Scientific_Name</th>\n",
       "      <th>Population</th>\n",
       "      <th>Tonnes_Per_Million_People</th>\n",
       "    </tr>\n",
       "  </thead>\n",
       "  <tbody>\n",
       "    <tr>\n",
       "      <th>0</th>\n",
       "      <td>2020</td>\n",
       "      <td>8000.0</td>\n",
       "      <td>Afghanistan</td>\n",
       "      <td>Asia - Inland waters</td>\n",
       "      <td>Freshwater</td>\n",
       "      <td>Cyprinids nei</td>\n",
       "      <td>Cyprinidae</td>\n",
       "      <td>38.928346</td>\n",
       "      <td>205.505777</td>\n",
       "    </tr>\n",
       "    <tr>\n",
       "      <th>1</th>\n",
       "      <td>2019</td>\n",
       "      <td>7950.0</td>\n",
       "      <td>Afghanistan</td>\n",
       "      <td>Asia - Inland waters</td>\n",
       "      <td>Freshwater</td>\n",
       "      <td>Cyprinids nei</td>\n",
       "      <td>Cyprinidae</td>\n",
       "      <td>38.928346</td>\n",
       "      <td>204.221366</td>\n",
       "    </tr>\n",
       "    <tr>\n",
       "      <th>2</th>\n",
       "      <td>2018</td>\n",
       "      <td>7900.0</td>\n",
       "      <td>Afghanistan</td>\n",
       "      <td>Asia - Inland waters</td>\n",
       "      <td>Freshwater</td>\n",
       "      <td>Cyprinids nei</td>\n",
       "      <td>Cyprinidae</td>\n",
       "      <td>38.928346</td>\n",
       "      <td>202.936955</td>\n",
       "    </tr>\n",
       "    <tr>\n",
       "      <th>3</th>\n",
       "      <td>2017</td>\n",
       "      <td>6950.0</td>\n",
       "      <td>Afghanistan</td>\n",
       "      <td>Asia - Inland waters</td>\n",
       "      <td>Freshwater</td>\n",
       "      <td>Cyprinids nei</td>\n",
       "      <td>Cyprinidae</td>\n",
       "      <td>38.928346</td>\n",
       "      <td>178.533144</td>\n",
       "    </tr>\n",
       "    <tr>\n",
       "      <th>4</th>\n",
       "      <td>2016</td>\n",
       "      <td>6100.0</td>\n",
       "      <td>Afghanistan</td>\n",
       "      <td>Asia - Inland waters</td>\n",
       "      <td>Freshwater</td>\n",
       "      <td>Cyprinids nei</td>\n",
       "      <td>Cyprinidae</td>\n",
       "      <td>38.928346</td>\n",
       "      <td>156.698155</td>\n",
       "    </tr>\n",
       "  </tbody>\n",
       "</table>\n",
       "</div>"
      ],
      "text/plain": [
       "   PERIOD  Tonnes      Country             WaterArea Environment  \\\n",
       "0    2020  8000.0  Afghanistan  Asia - Inland waters  Freshwater   \n",
       "1    2019  7950.0  Afghanistan  Asia - Inland waters  Freshwater   \n",
       "2    2018  7900.0  Afghanistan  Asia - Inland waters  Freshwater   \n",
       "3    2017  6950.0  Afghanistan  Asia - Inland waters  Freshwater   \n",
       "4    2016  6100.0  Afghanistan  Asia - Inland waters  Freshwater   \n",
       "\n",
       "         Species Scientific_Name  Population  Tonnes_Per_Million_People  \n",
       "0  Cyprinids nei      Cyprinidae   38.928346                 205.505777  \n",
       "1  Cyprinids nei      Cyprinidae   38.928346                 204.221366  \n",
       "2  Cyprinids nei      Cyprinidae   38.928346                 202.936955  \n",
       "3  Cyprinids nei      Cyprinidae   38.928346                 178.533144  \n",
       "4  Cyprinids nei      Cyprinidae   38.928346                 156.698155  "
      ]
     },
     "execution_count": 6,
     "metadata": {},
     "output_type": "execute_result"
    }
   ],
   "source": [
    "africa_inland = africa_asia_inland[africa_asia_inland['WaterArea'] == 'Africa - Inland waters']\n",
    "asia_inland = africa_asia_inland[africa_asia_inland['WaterArea'] == 'Asia - Inland waters']\n",
    "print(africa_inland.shape)\n",
    "print(asia_inland.shape)\n",
    "africa_inland.head()\n",
    "asia_inland.head()"
   ]
  },
  {
   "cell_type": "code",
   "execution_count": 7,
   "metadata": {},
   "outputs": [],
   "source": [
    "# get countries with a minimum production level\n",
    "total_production_africa_country = (africa_inland\n",
    "                            .groupby('Country', as_index=False)[['Tonnes', 'Tonnes_Per_Million_People']]\n",
    "                            .sum()\n",
    "                            .sort_values(by = 'Tonnes')\n",
    ")"
   ]
  },
  {
   "cell_type": "code",
   "execution_count": 8,
   "metadata": {},
   "outputs": [],
   "source": [
    "# get countries with a minimum production level\n",
    "total_production_asia_country = (asia_inland\n",
    "                            .groupby('Country', as_index=False)[['Tonnes', 'Tonnes_Per_Million_People']]\n",
    "                            .sum()\n",
    "                            .sort_values(by = 'Tonnes')\n",
    ")"
   ]
  },
  {
   "cell_type": "code",
   "execution_count": 9,
   "metadata": {},
   "outputs": [
    {
     "data": {
      "image/png": "[encoded data removed]",
      "text/plain": [
       "<Figure size 640x480 with 1 Axes>"
      ]
     },
     "metadata": {},
     "output_type": "display_data"
    }
   ],
   "source": [
    "g = sns.barplot(data=total_production_africa_country, x = 'Country', y = 'Tonnes')\n",
    "g.set(xticklabels=[], title = 'African Countries Total Production');"
   ]
  },
  {
   "cell_type": "code",
   "execution_count": 10,
   "metadata": {},
   "outputs": [
    {
     "data": {
      "image/png": "[encoded data removed]",
      "text/plain": [
       "<Figure size 640x480 with 1 Axes>"
      ]
     },
     "metadata": {},
     "output_type": "display_data"
    }
   ],
   "source": [
    "g = sns.barplot(data=total_production_asia_country, x = 'Country', y = 'Tonnes')\n",
    "g.set(xticklabels=[], title = 'Asian Countries Total Production');"
   ]
  },
  {
   "cell_type": "code",
   "execution_count": 11,
   "metadata": {},
   "outputs": [
    {
     "data": {
      "text/html": [
       "<div>\n",
       "<style scoped>\n",
       "    .dataframe tbody tr th:only-of-type {\n",
       "        vertical-align: middle;\n",
       "    }\n",
       "\n",
       "    .dataframe tbody tr th {\n",
       "        vertical-align: top;\n",
       "    }\n",
       "\n",
       "    .dataframe thead th {\n",
       "        text-align: right;\n",
       "    }\n",
       "</style>\n",
       "<table border=\"1\" class=\"dataframe\">\n",
       "  <thead>\n",
       "    <tr style=\"text-align: right;\">\n",
       "      <th></th>\n",
       "      <th>Country</th>\n",
       "      <th>Tonnes</th>\n",
       "      <th>Tonnes_Per_Million_People</th>\n",
       "    </tr>\n",
       "  </thead>\n",
       "  <tbody>\n",
       "    <tr>\n",
       "      <th>46</th>\n",
       "      <td>Zambia</td>\n",
       "      <td>3.502791e+05</td>\n",
       "      <td>19053.522487</td>\n",
       "    </tr>\n",
       "    <tr>\n",
       "      <th>18</th>\n",
       "      <td>Ghana</td>\n",
       "      <td>5.280380e+05</td>\n",
       "      <td>16993.499810</td>\n",
       "    </tr>\n",
       "    <tr>\n",
       "      <th>45</th>\n",
       "      <td>Uganda</td>\n",
       "      <td>1.408853e+06</td>\n",
       "      <td>30800.662084</td>\n",
       "    </tr>\n",
       "    <tr>\n",
       "      <th>33</th>\n",
       "      <td>Nigeria</td>\n",
       "      <td>4.045255e+06</td>\n",
       "      <td>19623.863876</td>\n",
       "    </tr>\n",
       "    <tr>\n",
       "      <th>12</th>\n",
       "      <td>Egypt</td>\n",
       "      <td>1.684887e+07</td>\n",
       "      <td>164645.239933</td>\n",
       "    </tr>\n",
       "  </tbody>\n",
       "</table>\n",
       "</div>"
      ],
      "text/plain": [
       "    Country        Tonnes  Tonnes_Per_Million_People\n",
       "46   Zambia  3.502791e+05               19053.522487\n",
       "18    Ghana  5.280380e+05               16993.499810\n",
       "45   Uganda  1.408853e+06               30800.662084\n",
       "33  Nigeria  4.045255e+06               19623.863876\n",
       "12    Egypt  1.684887e+07              164645.239933"
      ]
     },
     "execution_count": 11,
     "metadata": {},
     "output_type": "execute_result"
    }
   ],
   "source": [
    "total_production_africa_country.tail(5)"
   ]
  },
  {
   "cell_type": "code",
   "execution_count": 12,
   "metadata": {},
   "outputs": [
    {
     "data": {
      "text/html": [
       "<div>\n",
       "<style scoped>\n",
       "    .dataframe tbody tr th:only-of-type {\n",
       "        vertical-align: middle;\n",
       "    }\n",
       "\n",
       "    .dataframe tbody tr th {\n",
       "        vertical-align: top;\n",
       "    }\n",
       "\n",
       "    .dataframe thead th {\n",
       "        text-align: right;\n",
       "    }\n",
       "</style>\n",
       "<table border=\"1\" class=\"dataframe\">\n",
       "  <thead>\n",
       "    <tr style=\"text-align: right;\">\n",
       "      <th></th>\n",
       "      <th>Country</th>\n",
       "      <th>Tonnes</th>\n",
       "      <th>Tonnes_Per_Million_People</th>\n",
       "    </tr>\n",
       "  </thead>\n",
       "  <tbody>\n",
       "    <tr>\n",
       "      <th>24</th>\n",
       "      <td>Myanmar</td>\n",
       "      <td>1.468421e+07</td>\n",
       "      <td>269881.744594</td>\n",
       "    </tr>\n",
       "    <tr>\n",
       "      <th>3</th>\n",
       "      <td>Bangladesh</td>\n",
       "      <td>3.387904e+07</td>\n",
       "      <td>205714.754545</td>\n",
       "    </tr>\n",
       "    <tr>\n",
       "      <th>11</th>\n",
       "      <td>Indonesia</td>\n",
       "      <td>4.292044e+07</td>\n",
       "      <td>156916.771610</td>\n",
       "    </tr>\n",
       "    <tr>\n",
       "      <th>10</th>\n",
       "      <td>India</td>\n",
       "      <td>1.068598e+08</td>\n",
       "      <td>77434.378587</td>\n",
       "    </tr>\n",
       "    <tr>\n",
       "      <th>7</th>\n",
       "      <td>China</td>\n",
       "      <td>5.930184e+08</td>\n",
       "      <td>412011.830071</td>\n",
       "    </tr>\n",
       "  </tbody>\n",
       "</table>\n",
       "</div>"
      ],
      "text/plain": [
       "       Country        Tonnes  Tonnes_Per_Million_People\n",
       "24     Myanmar  1.468421e+07              269881.744594\n",
       "3   Bangladesh  3.387904e+07              205714.754545\n",
       "11   Indonesia  4.292044e+07              156916.771610\n",
       "10       India  1.068598e+08               77434.378587\n",
       "7        China  5.930184e+08              412011.830071"
      ]
     },
     "execution_count": 12,
     "metadata": {},
     "output_type": "execute_result"
    }
   ],
   "source": [
    "total_production_asia_country.tail(5)"
   ]
  },
  {
   "cell_type": "code",
   "execution_count": 13,
   "metadata": {},
   "outputs": [
    {
     "data": {
      "image/png": "[encoded data removed]",
      "text/plain": [
       "<Figure size 640x480 with 1 Axes>"
      ]
     },
     "metadata": {},
     "output_type": "display_data"
    }
   ],
   "source": [
    "g = sns.barplot(data=total_production_africa_country, x = 'Country', y = 'Tonnes_Per_Million_People')\n",
    "g.set(xticklabels=[], title = 'African Countries Total Production');"
   ]
  },
  {
   "cell_type": "code",
   "execution_count": 14,
   "metadata": {},
   "outputs": [
    {
     "data": {
      "image/png": "[encoded data removed]",
      "text/plain": [
       "<Figure size 640x480 with 1 Axes>"
      ]
     },
     "metadata": {},
     "output_type": "display_data"
    }
   ],
   "source": [
    "g = sns.barplot(data=total_production_asia_country, x = 'Country', y = 'Tonnes_Per_Million_People')\n",
    "g.set(xticklabels=[], title = 'Asian Countries Total Production');"
   ]
  },
  {
   "cell_type": "code",
   "execution_count": 15,
   "metadata": {},
   "outputs": [],
   "source": [
    "egypt_uganda = aquaculture_quantity_value[aquaculture_quantity_value['Country'].isin(['Egypt', 'Uganda'])].groupby(['PERIOD', 'Environment', 'Country'], as_index=False)['Tonnes_Per_Million_People'].sum()"
   ]
  },
  {
   "cell_type": "code",
   "execution_count": 16,
   "metadata": {},
   "outputs": [
    {
     "data": {
      "text/plain": [
       "<seaborn.axisgrid.FacetGrid at 0x7f9a50d4e510>"
      ]
     },
     "execution_count": 16,
     "metadata": {},
     "output_type": "execute_result"
    },
    {
     "data": {
      "image/png": "[encoded data removed]",
      "text/plain": [
       "<Figure size 764.25x300 with 2 Axes>"
      ]
     },
     "metadata": {},
     "output_type": "display_data"
    }
   ],
   "source": [
    "sns.set_theme(style = \"whitegrid\")\n",
    "g = sns.FacetGrid(egypt_uganda, col = \"Country\", hue = 'Environment', \n",
    "                  sharey = True, margin_titles = True)\n",
    "g.set_titles(col_template = '{col_name}')\n",
    "g.map(sns.lineplot, 'PERIOD', 'Tonnes_Per_Million_People')\n",
    "g.add_legend()\n",
    "g._legend.set_title(\"\")\n",
    "g.set(xlabel = None)"
   ]
  },
  {
   "attachments": {},
   "cell_type": "markdown",
   "metadata": {},
   "source": [
    "So now we only want to focus on the freshwater. "
   ]
  }
 ],
 "metadata": {
  "kernelspec": {
   "display_name": "Python 3",
   "language": "python",
   "name": "python3"
  },
  "language_info": {
   "codemirror_mode": {
    "name": "ipython",
    "version": 3
   },
   "file_extension": ".py",
   "mimetype": "text/x-python",
   "name": "python",
   "nbconvert_exporter": "python",
   "pygments_lexer": "ipython3",
   "version": "3.7.4 (default, Oct 27 2022, 12:49:07) \n[GCC 7.5.0]"
  },
  "orig_nbformat": 4,
  "vscode": {
   "interpreter": {
    "hash": "767d51c1340bd893661ea55ea3124f6de3c7a262a8b4abca0554b478b1e2ff90"
   }
  }
 },
 "nbformat": 4,
 "nbformat_minor": 2
}
